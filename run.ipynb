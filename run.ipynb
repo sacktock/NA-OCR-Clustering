{
 "cells": [
  {
   "cell_type": "code",
   "execution_count": 2,
   "id": "9f14dc07",
   "metadata": {},
   "outputs": [
    {
     "name": "stdout",
     "output_type": "stream",
     "text": [
      "Scanning contents: 100%|███████████████████████| 6/6 [00:00<00:00, 113.25page/s]\n",
      "Start processing 6 pages concurrently\n",
      "    1 page already has text! - rasterizing text and running OCR anyway          \n",
      "    4 page already has text! - rasterizing text and running OCR anyway          \n",
      "    6 page already has text! - rasterizing text and running OCR anyway          \n",
      "    2 page already has text! - rasterizing text and running OCR anyway          \n",
      "    5 page already has text! - rasterizing text and running OCR anyway          \n",
      "    3 page already has text! - rasterizing text and running OCR anyway          \n",
      "    4 [tesseract] lots of diacritics - possibly poor OCR                        \n",
      "    1 [tesseract] lots of diacritics - possibly poor OCR                        \n",
      "    2 [tesseract] lots of diacritics - possibly poor OCR                        \n",
      "    3 [tesseract] lots of diacritics - possibly poor OCR                        \n",
      "    6 [tesseract] lots of diacritics - possibly poor OCR                        \n",
      "    5 [tesseract] lots of diacritics - possibly poor OCR                        \n",
      "OCR: 100%|██████████████████████████████████| 6.0/6.0 [02:34<00:00, 25.68s/page]\n",
      "Output sent to stdout\n"
     ]
    }
   ],
   "source": [
    "! ocrmypdf --sidecar output.txt --force-ocr --deskew --clean --output-type=none dataset/PROB-11-3-1.pdf - > sdout.txt"
   ]
  },
  {
   "cell_type": "code",
   "execution_count": 3,
   "id": "92d8ede4",
   "metadata": {},
   "outputs": [
    {
     "name": "stdout",
     "output_type": "stream",
     "text": [
      "Done\r\n"
     ]
    }
   ],
   "source": [
    "! python clean.py -i output.txt -o cleaned_output.txt"
   ]
  },
  {
   "cell_type": "code",
   "execution_count": 4,
   "id": "8c217bb1",
   "metadata": {},
   "outputs": [],
   "source": [
    "! aspell --lang=en --mode=none --list < cleaned_output.txt > spelling_mistakes.txt"
   ]
  },
  {
   "cell_type": "code",
   "execution_count": null,
   "id": "60e6c448",
   "metadata": {},
   "outputs": [],
   "source": []
  }
 ],
 "metadata": {
  "kernelspec": {
   "display_name": "Python 3 (ipykernel)",
   "language": "python",
   "name": "python3"
  },
  "language_info": {
   "codemirror_mode": {
    "name": "ipython",
    "version": 3
   },
   "file_extension": ".py",
   "mimetype": "text/x-python",
   "name": "python",
   "nbconvert_exporter": "python",
   "pygments_lexer": "ipython3",
   "version": "3.9.13"
  }
 },
 "nbformat": 4,
 "nbformat_minor": 5
}
