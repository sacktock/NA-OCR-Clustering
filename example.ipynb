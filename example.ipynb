{
 "cells": [
  {
   "cell_type": "code",
   "execution_count": null,
   "id": "9f14dc07",
   "metadata": {},
   "outputs": [],
   "source": [
    "! ocrmypdf --sidecar example/output.txt --force-ocr --deskew --clean --output-type=none dataset/PROB-11-3-1.pdf - > sdout.txt"
   ]
  },
  {
   "cell_type": "code",
   "execution_count": null,
   "id": "92d8ede4",
   "metadata": {},
   "outputs": [],
   "source": [
    "! python clean.py -i example/output.txt -o example/cleaned_output.txt"
   ]
  },
  {
   "cell_type": "code",
   "execution_count": null,
   "id": "8c217bb1",
   "metadata": {},
   "outputs": [],
   "source": [
    "! aspell --lang=en --mode=none --list < example/cleaned_output.txt > example/spelling_mistakes.txt"
   ]
  },
  {
   "cell_type": "code",
   "execution_count": null,
   "id": "60e6c448",
   "metadata": {},
   "outputs": [],
   "source": [
    "with open('spelling_mistakes.txt', 'r') as f:\n",
    "    for line in f:\n",
    "        line = line.strip()\n",
    "        # do something with the line (e.g. print it)\n",
    "        print(line)"
   ]
  }
 ],
 "metadata": {
  "kernelspec": {
   "display_name": "Python 3 (ipykernel)",
   "language": "python",
   "name": "python3"
  },
  "language_info": {
   "codemirror_mode": {
    "name": "ipython",
    "version": 3
   },
   "file_extension": ".py",
   "mimetype": "text/x-python",
   "name": "python",
   "nbconvert_exporter": "python",
   "pygments_lexer": "ipython3",
   "version": "3.9.13"
  }
 },
 "nbformat": 4,
 "nbformat_minor": 5
}
